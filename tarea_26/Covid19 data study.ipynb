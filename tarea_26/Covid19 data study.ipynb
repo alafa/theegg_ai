{
 "cells": [
  {
   "cell_type": "markdown",
   "metadata": {},
   "source": [
    "Vamos a analizar los datos de Covid proporcionados por https://datos.gob.es/catalogo/a16003011-evolucion-del-coronavirus-covid-19-en-euskadi1"
   ]
  },
  {
   "cell_type": "markdown",
   "metadata": {},
   "source": [
    "Ficheros:\n",
    "01.csv - Evolución nº de ingresados en planta\n",
    "02.csv - Evolución Nº de ingresos nuevos en planta\n",
    "03.csv - Evolución nº total de altas hospitalización\n",
    "04.csv - Evolución nº de ingresados en UCI\n",
    "05.csv - Evolución nº de nuevos ingresos en UCI\n",
    "06.csv - Evolución nº de altas de UCI\n",
    "07.csv - Evolución nº de altas hospitalarias por fallecimiento\n",
    "08.csv - Evolución nº de ingresos nuevos en planta (se incluye únicamente información del período en que ha sido positivo)\n",
    "09.csv - Evolución nº ingresos nuevos en UCI (se incluye únicamente información del período en que ha sido positivo)"
   ]
  },
  {
   "cell_type": "code",
   "execution_count": 29,
   "metadata": {},
   "outputs": [
    {
     "name": "stdout",
     "output_type": "stream",
     "text": [
      "Cargando: 01.csv\n",
      " - Evolución nº de ingresados en planta\n",
      " - Se incluye todos los pacientes que a fecha de hoy han sido o son positivos.\n",
      "Cargando: 02.csv\n",
      " - Evolución Nº de ingresos nuevos en planta\n",
      " - Se incluye todos los pacientes que a fecha de hoy han sido o son positivos.\n",
      "Cargando: 03.csv\n",
      " - Evolución nº total de altas hospitalización\n",
      " - Se incluye todos los pacientes que a fecha de hoy han sido o son positivos.\n",
      "Cargando: 04.csv\n",
      " - Evolución nº de ingresados en UCI\n",
      " - Se incluye todos los pacientes que a fecha de hoy han sido o son positivos.\n",
      "Cargando: 05.csv\n",
      " - Evolución nº de nuevos ingresos en UCI\n",
      " - Se incluye todos los pacientes que a fecha de hoy han sido o son positivos.\n",
      "Cargando: 06.csv\n",
      " - Evolución nº de altas de UCI\n",
      " - Se incluye todos los pacientes que a fecha de hoy han sido o son positivos.\n",
      "Cargando: 07.csv\n",
      " - Evolución nº de altas hospitalarias por fallecimiento\n",
      " - Se incluye todos los pacientes que a fecha de hoy han sido o son positivos.\n",
      "Cargando: 08.csv\n",
      " - Evolución nº de ingresos nuevos en planta\n",
      " - Para los pacientes positivos, se incluye únicamente información del período en que ha sido positivo.\n",
      "--> WARNING: No data for hospital ZALDIBAR H. (vizcaya)\n",
      "Cargando: 09.csv\n",
      " - Evolución nº ingresos nuevos en UCI\n",
      " - Para los pacientes positivos, se incluye únicamente información del período en que ha sido positivo.\n",
      "--> WARNING: No data for hospital ZALDIBAR H. (vizcaya)\n",
      "Pandas dataframes available: df_01, df_02, df_03, df_04, df_05, df_06, df_07, df_08, df_09\n"
     ]
    }
   ],
   "source": [
    "%run readData.py"
   ]
  },
  {
   "cell_type": "code",
   "execution_count": 30,
   "metadata": {},
   "outputs": [
    {
     "data": {
      "text/html": [
       "<div>\n",
       "<style scoped>\n",
       "    .dataframe tbody tr th:only-of-type {\n",
       "        vertical-align: middle;\n",
       "    }\n",
       "\n",
       "    .dataframe tbody tr th {\n",
       "        vertical-align: top;\n",
       "    }\n",
       "\n",
       "    .dataframe thead th {\n",
       "        text-align: right;\n",
       "    }\n",
       "</style>\n",
       "<table border=\"1\" class=\"dataframe\">\n",
       "  <thead>\n",
       "    <tr style=\"text-align: right;\">\n",
       "      <th></th>\n",
       "      <th>fecha</th>\n",
       "      <th>total</th>\n",
       "      <th>guipuzcoa</th>\n",
       "      <th>vizcaya</th>\n",
       "      <th>alaba</th>\n",
       "      <th>total_calculado</th>\n",
       "    </tr>\n",
       "  </thead>\n",
       "  <tbody>\n",
       "    <tr>\n",
       "      <th>0</th>\n",
       "      <td>2020-03-01</td>\n",
       "      <td>11</td>\n",
       "      <td>0</td>\n",
       "      <td>7</td>\n",
       "      <td>4</td>\n",
       "      <td>11</td>\n",
       "    </tr>\n",
       "    <tr>\n",
       "      <th>1</th>\n",
       "      <td>2020-03-02</td>\n",
       "      <td>14</td>\n",
       "      <td>2</td>\n",
       "      <td>7</td>\n",
       "      <td>5</td>\n",
       "      <td>14</td>\n",
       "    </tr>\n",
       "    <tr>\n",
       "      <th>2</th>\n",
       "      <td>2020-03-03</td>\n",
       "      <td>15</td>\n",
       "      <td>2</td>\n",
       "      <td>9</td>\n",
       "      <td>4</td>\n",
       "      <td>15</td>\n",
       "    </tr>\n",
       "    <tr>\n",
       "      <th>3</th>\n",
       "      <td>2020-03-04</td>\n",
       "      <td>16</td>\n",
       "      <td>0</td>\n",
       "      <td>11</td>\n",
       "      <td>5</td>\n",
       "      <td>16</td>\n",
       "    </tr>\n",
       "    <tr>\n",
       "      <th>4</th>\n",
       "      <td>2020-03-05</td>\n",
       "      <td>16</td>\n",
       "      <td>0</td>\n",
       "      <td>8</td>\n",
       "      <td>8</td>\n",
       "      <td>16</td>\n",
       "    </tr>\n",
       "    <tr>\n",
       "      <th>...</th>\n",
       "      <td>...</td>\n",
       "      <td>...</td>\n",
       "      <td>...</td>\n",
       "      <td>...</td>\n",
       "      <td>...</td>\n",
       "      <td>...</td>\n",
       "    </tr>\n",
       "    <tr>\n",
       "      <th>271</th>\n",
       "      <td>2020-11-27</td>\n",
       "      <td>113</td>\n",
       "      <td>39</td>\n",
       "      <td>55</td>\n",
       "      <td>19</td>\n",
       "      <td>113</td>\n",
       "    </tr>\n",
       "    <tr>\n",
       "      <th>272</th>\n",
       "      <td>2020-11-28</td>\n",
       "      <td>116</td>\n",
       "      <td>40</td>\n",
       "      <td>57</td>\n",
       "      <td>19</td>\n",
       "      <td>116</td>\n",
       "    </tr>\n",
       "    <tr>\n",
       "      <th>273</th>\n",
       "      <td>2020-11-29</td>\n",
       "      <td>115</td>\n",
       "      <td>39</td>\n",
       "      <td>57</td>\n",
       "      <td>19</td>\n",
       "      <td>115</td>\n",
       "    </tr>\n",
       "    <tr>\n",
       "      <th>274</th>\n",
       "      <td>2020-11-30</td>\n",
       "      <td>109</td>\n",
       "      <td>38</td>\n",
       "      <td>52</td>\n",
       "      <td>19</td>\n",
       "      <td>109</td>\n",
       "    </tr>\n",
       "    <tr>\n",
       "      <th>275</th>\n",
       "      <td>2020-12-01</td>\n",
       "      <td>109</td>\n",
       "      <td>40</td>\n",
       "      <td>50</td>\n",
       "      <td>19</td>\n",
       "      <td>109</td>\n",
       "    </tr>\n",
       "  </tbody>\n",
       "</table>\n",
       "<p>276 rows × 6 columns</p>\n",
       "</div>"
      ],
      "text/plain": [
       "         fecha total  guipuzcoa  vizcaya  alaba  total_calculado\n",
       "0   2020-03-01    11          0        7      4               11\n",
       "1   2020-03-02    14          2        7      5               14\n",
       "2   2020-03-03    15          2        9      4               15\n",
       "3   2020-03-04    16          0       11      5               16\n",
       "4   2020-03-05    16          0        8      8               16\n",
       "..         ...   ...        ...      ...    ...              ...\n",
       "271 2020-11-27   113         39       55     19              113\n",
       "272 2020-11-28   116         40       57     19              116\n",
       "273 2020-11-29   115         39       57     19              115\n",
       "274 2020-11-30   109         38       52     19              109\n",
       "275 2020-12-01   109         40       50     19              109\n",
       "\n",
       "[276 rows x 6 columns]"
      ]
     },
     "execution_count": 30,
     "metadata": {},
     "output_type": "execute_result"
    }
   ],
   "source": [
    "df_04\n"
   ]
  },
  {
   "cell_type": "code",
   "execution_count": 32,
   "metadata": {},
   "outputs": [],
   "source": [
    "import matplotlib.pyplot as plt"
   ]
  },
  {
   "cell_type": "code",
   "execution_count": 45,
   "metadata": {},
   "outputs": [
    {
     "data": {
      "text/plain": [
       "<matplotlib.axes._subplots.AxesSubplot at 0x17f7f770860>"
      ]
     },
     "execution_count": 45,
     "metadata": {},
     "output_type": "execute_result"
    },
    {
     "data": {
      "image/png": "[encoded data removed]",
      "text/plain": [
       "<Figure size 432x288 with 1 Axes>"
      ]
     },
     "metadata": {
      "needs_background": "light"
     },
     "output_type": "display_data"
    }
   ],
   "source": [
    "df_04.plot(x='fecha', y='total')"
   ]
  },
  {
   "cell_type": "code",
   "execution_count": 46,
   "metadata": {},
   "outputs": [
    {
     "data": {
      "text/plain": [
       "<matplotlib.axes._subplots.AxesSubplot at 0x17f7f864f28>"
      ]
     },
     "execution_count": 46,
     "metadata": {},
     "output_type": "execute_result"
    },
    {
     "data": {
      "image/png": "[encoded data removed]",
      "text/plain": [
       "<Figure size 432x288 with 1 Axes>"
      ]
     },
     "metadata": {
      "needs_background": "light"
     },
     "output_type": "display_data"
    }
   ],
   "source": [
    "df_04[[\"fecha\", \"guipuzcoa\", \"vizcaya\", \"alaba\"]].plot(x=\"fecha\")"
   ]
  },
  {
   "cell_type": "code",
   "execution_count": null,
   "metadata": {},
   "outputs": [],
   "source": []
  },
  {
   "cell_type": "code",
   "execution_count": null,
   "metadata": {},
   "outputs": [],
   "source": []
  },
  {
   "cell_type": "code",
   "execution_count": null,
   "metadata": {},
   "outputs": [],
   "source": []
  },
  {
   "cell_type": "code",
   "execution_count": null,
   "metadata": {},
   "outputs": [],
   "source": []
  }
 ],
 "metadata": {
  "kernelspec": {
   "display_name": "Python 3",
   "language": "python",
   "name": "python3"
  },
  "language_info": {
   "codemirror_mode": {
    "name": "ipython",
    "version": 3
   },
   "file_extension": ".py",
   "mimetype": "text/x-python",
   "name": "python",
   "nbconvert_exporter": "python",
   "pygments_lexer": "ipython3",
   "version": "3.7.3"
  }
 },
 "nbformat": 4,
 "nbformat_minor": 4
}
