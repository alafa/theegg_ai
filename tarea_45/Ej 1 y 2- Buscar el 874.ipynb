{
 "cells": [
  {
   "cell_type": "code",
   "execution_count": 1,
   "metadata": {},
   "outputs": [],
   "source": [
    "%run linearSearch.py\n",
    "%run binarySearch.py"
   ]
  },
  {
   "cell_type": "code",
   "execution_count": 2,
   "metadata": {},
   "outputs": [],
   "source": [
    "lista_ejercicio = [3, 56, 21, 33, 874, 123, 66, 1000, 23, 45, 65, 56]\n",
    "elemento_a_buscar = 874"
   ]
  },
  {
   "cell_type": "code",
   "execution_count": 3,
   "metadata": {},
   "outputs": [
    {
     "name": "stdout",
     "output_type": "stream",
     "text": [
      "Elemento encontrado en posicion 4.\n",
      "Han hecho falta 5 pasos.\n"
     ]
    }
   ],
   "source": [
    "# Búsqueda lineal\n",
    "LinearSearch(lista_ejercicio, elemento_a_buscar).print_result()"
   ]
  },
  {
   "cell_type": "code",
   "execution_count": 4,
   "metadata": {},
   "outputs": [
    {
     "name": "stdout",
     "output_type": "stream",
     "text": [
      "Elemento encontrado en posicion 10.\n",
      "Han hecho falta 20 pasos.\n",
      "Si la lista hubiera estado ordenada se hubieran necesitado 3 pasos.\n"
     ]
    }
   ],
   "source": [
    "# Búsqueda binaria\n",
    "BinarySearch(lista_ejercicio, elemento_a_buscar).print_result()"
   ]
  },
  {
   "cell_type": "code",
   "execution_count": null,
   "metadata": {},
   "outputs": [],
   "source": []
  }
 ],
 "metadata": {
  "kernelspec": {
   "display_name": "Python 3",
   "language": "python",
   "name": "python3"
  },
  "language_info": {
   "codemirror_mode": {
    "name": "ipython",
    "version": 3
   },
   "file_extension": ".py",
   "mimetype": "text/x-python",
   "name": "python",
   "nbconvert_exporter": "python",
   "pygments_lexer": "ipython3",
   "version": "3.7.3"
  }
 },
 "nbformat": 4,
 "nbformat_minor": 4
}
