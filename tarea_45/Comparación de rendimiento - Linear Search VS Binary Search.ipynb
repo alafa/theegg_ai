{
 "cells": [
  {
   "cell_type": "code",
   "execution_count": 1,
   "metadata": {},
   "outputs": [],
   "source": [
    "import random\n",
    "\n",
    "%run linearSearch.py\n",
    "%run binarySearch.py"
   ]
  },
  {
   "cell_type": "code",
   "execution_count": 2,
   "metadata": {},
   "outputs": [
    {
     "name": "stdout",
     "output_type": "stream",
     "text": [
      "[227, 285, 349, 303, 774, 105, 858, 157, 232, 352, 358, 350, 879, 674, 13, 207, 840, 836, 135, 616]\n",
      "858\n",
      "[124, 671, 26, 958, 852, 920, 634, 929, 535, 369, 767, 802, 168, 950, 333, 108, 256, 84, 660, 742]\n",
      "369\n",
      "[62, 139, 480, 525, 515, 9, 884, 209, 352, 666, 616, 917, 939, 892, 899, 784, 129, 968, 56, 271]\n",
      "56\n",
      "[652, 451, 620, 856, 622, 752, 958, 247, 151, 810, 628, 140, 960, 272, 32, 659, 126, 789, 37, 48]\n",
      "32\n",
      "[522, 915, 206, 795, 235, 628, 307, 941, 63, 122, 524, 633, 604, 743, 724, 514, 721, 437, 283, 93]\n",
      "307\n",
      "[687, 688, 903, 497, 44, 811, 909, 121, 308, 625, 370, 759, 935, 86, 1, 995, 0, 258, 716, 213]\n",
      "935\n",
      "[720, 546, 194, 578, 423, 195, 566, 517, 497, 550, 598, 846, 491, 382, 125, 175, 813, 102, 708, 435]\n",
      "720\n",
      "[551, 695, 113, 757, 718, 778, 111, 489, 299, 831, 310, 915, 138, 818, 589, 698, 157, 19, 729, 730]\n",
      "831\n",
      "[205, 686, 380, 875, 716, 792, 904, 48, 63, 626, 273, 115, 382, 614, 545, 244, 901, 357, 635, 621]\n",
      "205\n",
      "[128, 122, 380, 204, 481, 979, 71, 806, 880, 298, 391, 978, 524, 516, 104, 548, 854, 971, 926, 565]\n",
      "524\n",
      "[7, 10, 19, 15, 7, 13, 1, 10, 1, 13]\n",
      "[4, 3, 4, 5, 4, 4, 3, 4, 4, 1]\n",
      "[27, 32, 29, 34, 33, 31, 30, 29, 29, 28]\n"
     ]
    }
   ],
   "source": [
    "#Listas de 20 elementos (de valores entre 0 y 1000) desordenados\n",
    "\n",
    "linearS_steps = []\n",
    "binaryS_steps = []\n",
    "binaryS_steps_total = []\n",
    "\n",
    "for i in range(0, 10):\n",
    "    our_list = random.sample(range(0, 1000), 20)\n",
    "    num_to_find = our_list[random.randint(0,len(our_list)-1)]\n",
    "    \n",
    "    print(our_list)\n",
    "    print(num_to_find)\n",
    "    \n",
    "    linearS_steps.append(LinearSearch(our_list, num_to_find).counter)\n",
    "    binaryS_steps.append(BinarySearch(our_list, num_to_find).counter)\n",
    "    binaryS_steps_total.append(BinarySearch(our_list, num_to_find).counter + BinarySearch(our_list, num_to_find).moves_to_sort)\n",
    "    \n",
    "print(linearS_steps)\n",
    "print(binaryS_steps)\n",
    "print(binaryS_steps_total)\n"
   ]
  },
  {
   "cell_type": "markdown",
   "metadata": {},
   "source": [
    "https://www.geeksforgeeks.org/python-program-for-binary-search/"
   ]
  }
 ],
 "metadata": {
  "kernelspec": {
   "display_name": "Python 3",
   "language": "python",
   "name": "python3"
  },
  "language_info": {
   "codemirror_mode": {
    "name": "ipython",
    "version": 3
   },
   "file_extension": ".py",
   "mimetype": "text/x-python",
   "name": "python",
   "nbconvert_exporter": "python",
   "pygments_lexer": "ipython3",
   "version": "3.7.3"
  }
 },
 "nbformat": 4,
 "nbformat_minor": 4
}
